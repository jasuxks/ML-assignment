{
 "cells": [
  {
   "cell_type": "code",
   "execution_count": 1,
   "id": "45ba2859-6f27-4653-b090-4da323ce6918",
   "metadata": {},
   "outputs": [],
   "source": [
    "import pandas as pd\n",
    "from sklearn.model_selection import train_test_split\n",
    "from sklearn.ensemble import RandomForestClassifier\n",
    "from sklearn.svm import SVC\n",
    "from sklearn.neighbors import KNeighborsClassifier\n",
    "from sklearn.tree import DecisionTreeClassifier\n",
    "from sklearn.linear_model import LogisticRegression\n",
    "from sklearn.preprocessing import StandardScaler\n",
    "from sklearn.metrics import accuracy_score"
   ]
  },
  {
   "cell_type": "code",
   "execution_count": 2,
   "id": "53102a95-045d-49ca-b1f5-4e530f137e22",
   "metadata": {},
   "outputs": [],
   "source": [
    "data = pd.read_csv('iris.csv')"
   ]
  },
  {
   "cell_type": "code",
   "execution_count": 3,
   "id": "490732ce-39cf-459b-9400-238dfaf25a86",
   "metadata": {},
   "outputs": [],
   "source": [
    "X = data.drop(columns=['Species'])\n",
    "y = data['Species']\n",
    "scaler = StandardScaler()\n",
    "X = scaler.fit_transform(X)\n",
    "X_train, X_test, y_train, y_test = train_test_split(X, y, test_size=0.2, random_state=42)\n"
   ]
  },
  {
   "cell_type": "code",
   "execution_count": 4,
   "id": "a8352c0c-a754-4a03-9d0f-ae86a2be7583",
   "metadata": {},
   "outputs": [],
   "source": [
    "models = {\n",
    "    'Random Forest': RandomForestClassifier(),\n",
    "    'SVM': SVC(),\n",
    "    'K-Nearest Neighbors': KNeighborsClassifier(),\n",
    "    'Decision Tree': DecisionTreeClassifier(),\n",
    "    'Logistic Regression': LogisticRegression(max_iter=1000)  # Set a higher value for max_iter\n",
    "}"
   ]
  },
  {
   "cell_type": "code",
   "execution_count": 5,
   "id": "d10127df-b5cd-42eb-b942-b2ffe1d68604",
   "metadata": {},
   "outputs": [],
   "source": [
    "model_accuracies = {}\n",
    "\n",
    "for model_name, model in models.items():\n",
    "    model.fit(X_train, y_train)\n",
    "    y_pred = model.predict(X_test)\n",
    "    accuracy = accuracy_score(y_test, y_pred)\n",
    "    model_accuracies[model_name] = accuracy"
   ]
  },
  {
   "cell_type": "code",
   "execution_count": 6,
   "id": "1039c464-eb49-41fd-9e60-662bedbf0835",
   "metadata": {},
   "outputs": [
    {
     "name": "stdout",
     "output_type": "stream",
     "text": [
      "Random Forest Accuracy: 1.00\n",
      "SVM Accuracy: 1.00\n",
      "K-Nearest Neighbors Accuracy: 1.00\n",
      "Decision Tree Accuracy: 1.00\n",
      "Logistic Regression Accuracy: 1.00\n"
     ]
    }
   ],
   "source": [
    "for model_name, accuracy in model_accuracies.items():\n",
    "    print(f'{model_name} Accuracy: {accuracy:.2f}')"
   ]
  },
  {
   "cell_type": "code",
   "execution_count": 7,
   "id": "eb22f756-7b1b-4179-8494-e25dbd1e0a84",
   "metadata": {},
   "outputs": [
    {
     "name": "stdout",
     "output_type": "stream",
     "text": [
      "The best model is Random Forest with an accuracy of 1.00\n"
     ]
    }
   ],
   "source": [
    "sorted_models = sorted(model_accuracies.items(), key=lambda x: x[1], reverse=True)\n",
    "best_model, best_accuracy = sorted_models[0]\n",
    "print(f\"The best model is {best_model} with an accuracy of {best_accuracy:.2f}\")"
   ]
  },
  {
   "cell_type": "code",
   "execution_count": null,
   "id": "bfa9ccc0-9046-4e81-ad16-73f1d565312e",
   "metadata": {},
   "outputs": [],
   "source": []
  }
 ],
 "metadata": {
  "kernelspec": {
   "display_name": "Python 3 (ipykernel)",
   "language": "python",
   "name": "python3"
  },
  "language_info": {
   "codemirror_mode": {
    "name": "ipython",
    "version": 3
   },
   "file_extension": ".py",
   "mimetype": "text/x-python",
   "name": "python",
   "nbconvert_exporter": "python",
   "pygments_lexer": "ipython3",
   "version": "3.11.4"
  }
 },
 "nbformat": 4,
 "nbformat_minor": 5
}
